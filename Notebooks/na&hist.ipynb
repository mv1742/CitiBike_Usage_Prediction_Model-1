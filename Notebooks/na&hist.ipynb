{
 "cells": [
  {
   "cell_type": "code",
   "execution_count": 27,
   "metadata": {},
   "outputs": [
    {
     "name": "stdout",
     "output_type": "stream",
     "text": [
      "Populating the interactive namespace from numpy and matplotlib\n"
     ]
    }
   ],
   "source": [
    "from __future__ import print_function, division\n",
    "import pylab as pl\n",
    "import numpy as np\n",
    "import pandas as pd\n",
    "import os\n",
    "\n",
    "#from sklearn.ensemble  import RandomForestClassifier as rfc\n",
    "#from sklearn.model_selection import train_test_split\n",
    "#from sklearn.metrics import confusion_matrix\n",
    "#from sklearn.metrics import classification_report\n",
    "#import statsmodels.api as sm\n",
    "\n",
    "%pylab inline"
   ]
  },
  {
   "cell_type": "code",
   "execution_count": 28,
   "metadata": {},
   "outputs": [
    {
     "data": {
      "text/html": [
       "<div>\n",
       "<table border=\"1\" class=\"dataframe\">\n",
       "  <thead>\n",
       "    <tr style=\"text-align: right;\">\n",
       "      <th></th>\n",
       "      <th>CensusTract</th>\n",
       "      <th>County</th>\n",
       "      <th>Borough</th>\n",
       "      <th>Income</th>\n",
       "      <th>IncomePerCap</th>\n",
       "      <th>Drive</th>\n",
       "      <th>Carpool</th>\n",
       "      <th>Transit</th>\n",
       "      <th>Walk</th>\n",
       "      <th>OtherTransp</th>\n",
       "      <th>WorkAtHome</th>\n",
       "      <th>MeanCommute</th>\n",
       "      <th>Employed</th>\n",
       "      <th>PrivateWork</th>\n",
       "      <th>PublicWork</th>\n",
       "      <th>SelfEmployed</th>\n",
       "      <th>FamilyWork</th>\n",
       "      <th>Unemployment</th>\n",
       "    </tr>\n",
       "  </thead>\n",
       "  <tbody>\n",
       "    <tr>\n",
       "      <th>0</th>\n",
       "      <td>36005000100</td>\n",
       "      <td>Bronx</td>\n",
       "      <td>Bronx</td>\n",
       "      <td>NaN</td>\n",
       "      <td>2440.0</td>\n",
       "      <td>NaN</td>\n",
       "      <td>NaN</td>\n",
       "      <td>NaN</td>\n",
       "      <td>NaN</td>\n",
       "      <td>NaN</td>\n",
       "      <td>NaN</td>\n",
       "      <td>NaN</td>\n",
       "      <td>0.000000</td>\n",
       "      <td>NaN</td>\n",
       "      <td>NaN</td>\n",
       "      <td>NaN</td>\n",
       "      <td>NaN</td>\n",
       "      <td>NaN</td>\n",
       "    </tr>\n",
       "    <tr>\n",
       "      <th>1</th>\n",
       "      <td>36005000200</td>\n",
       "      <td>Bronx</td>\n",
       "      <td>Bronx</td>\n",
       "      <td>72034.0</td>\n",
       "      <td>22180.0</td>\n",
       "      <td>44.8</td>\n",
       "      <td>13.7</td>\n",
       "      <td>38.6</td>\n",
       "      <td>2.9</td>\n",
       "      <td>0.0</td>\n",
       "      <td>0.0</td>\n",
       "      <td>43.0</td>\n",
       "      <td>0.427170</td>\n",
       "      <td>80.8</td>\n",
       "      <td>16.2</td>\n",
       "      <td>2.9</td>\n",
       "      <td>0.0</td>\n",
       "      <td>7.7</td>\n",
       "    </tr>\n",
       "    <tr>\n",
       "      <th>2</th>\n",
       "      <td>36005000400</td>\n",
       "      <td>Bronx</td>\n",
       "      <td>Bronx</td>\n",
       "      <td>74836.0</td>\n",
       "      <td>27700.0</td>\n",
       "      <td>41.3</td>\n",
       "      <td>10.0</td>\n",
       "      <td>44.6</td>\n",
       "      <td>1.4</td>\n",
       "      <td>0.5</td>\n",
       "      <td>2.1</td>\n",
       "      <td>45.0</td>\n",
       "      <td>0.452240</td>\n",
       "      <td>71.7</td>\n",
       "      <td>25.3</td>\n",
       "      <td>2.5</td>\n",
       "      <td>0.6</td>\n",
       "      <td>9.5</td>\n",
       "    </tr>\n",
       "    <tr>\n",
       "      <th>3</th>\n",
       "      <td>36005001600</td>\n",
       "      <td>Bronx</td>\n",
       "      <td>Bronx</td>\n",
       "      <td>32312.0</td>\n",
       "      <td>17526.0</td>\n",
       "      <td>37.2</td>\n",
       "      <td>5.3</td>\n",
       "      <td>45.5</td>\n",
       "      <td>8.6</td>\n",
       "      <td>1.6</td>\n",
       "      <td>1.7</td>\n",
       "      <td>38.8</td>\n",
       "      <td>0.360606</td>\n",
       "      <td>75.0</td>\n",
       "      <td>21.3</td>\n",
       "      <td>3.8</td>\n",
       "      <td>0.0</td>\n",
       "      <td>8.7</td>\n",
       "    </tr>\n",
       "    <tr>\n",
       "      <th>4</th>\n",
       "      <td>36005001900</td>\n",
       "      <td>Bronx</td>\n",
       "      <td>Bronx</td>\n",
       "      <td>37936.0</td>\n",
       "      <td>17986.0</td>\n",
       "      <td>19.2</td>\n",
       "      <td>5.3</td>\n",
       "      <td>63.9</td>\n",
       "      <td>3.0</td>\n",
       "      <td>2.4</td>\n",
       "      <td>6.2</td>\n",
       "      <td>45.4</td>\n",
       "      <td>0.417985</td>\n",
       "      <td>76.8</td>\n",
       "      <td>15.5</td>\n",
       "      <td>7.7</td>\n",
       "      <td>0.0</td>\n",
       "      <td>19.2</td>\n",
       "    </tr>\n",
       "  </tbody>\n",
       "</table>\n",
       "</div>"
      ],
      "text/plain": [
       "   CensusTract County Borough   Income  IncomePerCap  Drive  Carpool  Transit  \\\n",
       "0  36005000100  Bronx   Bronx      NaN        2440.0    NaN      NaN      NaN   \n",
       "1  36005000200  Bronx   Bronx  72034.0       22180.0   44.8     13.7     38.6   \n",
       "2  36005000400  Bronx   Bronx  74836.0       27700.0   41.3     10.0     44.6   \n",
       "3  36005001600  Bronx   Bronx  32312.0       17526.0   37.2      5.3     45.5   \n",
       "4  36005001900  Bronx   Bronx  37936.0       17986.0   19.2      5.3     63.9   \n",
       "\n",
       "   Walk  OtherTransp  WorkAtHome  MeanCommute  Employed  PrivateWork  \\\n",
       "0   NaN          NaN         NaN          NaN  0.000000          NaN   \n",
       "1   2.9          0.0         0.0         43.0  0.427170         80.8   \n",
       "2   1.4          0.5         2.1         45.0  0.452240         71.7   \n",
       "3   8.6          1.6         1.7         38.8  0.360606         75.0   \n",
       "4   3.0          2.4         6.2         45.4  0.417985         76.8   \n",
       "\n",
       "   PublicWork  SelfEmployed  FamilyWork  Unemployment  \n",
       "0         NaN           NaN         NaN           NaN  \n",
       "1        16.2           2.9         0.0           7.7  \n",
       "2        25.3           2.5         0.6           9.5  \n",
       "3        21.3           3.8         0.0           8.7  \n",
       "4        15.5           7.7         0.0          19.2  "
      ]
     },
     "execution_count": 28,
     "metadata": {},
     "output_type": "execute_result"
    }
   ],
   "source": [
    "df_1 = pd.read_csv(os.getenv(\"PUIDATA\") + \"/\" + 'cencus.csv')\n",
    "df_1.head()"
   ]
  },
  {
   "cell_type": "code",
   "execution_count": 29,
   "metadata": {},
   "outputs": [
    {
     "data": {
      "text/plain": [
       "CensusTract     0.000000\n",
       "County          0.000000\n",
       "Borough         0.000000\n",
       "Income          0.030457\n",
       "IncomePerCap    0.021228\n",
       "Drive           0.019843\n",
       "Carpool         0.019843\n",
       "Transit         0.019843\n",
       "Walk            0.019843\n",
       "OtherTransp     0.019843\n",
       "WorkAtHome      0.019843\n",
       "MeanCommute     0.028150\n",
       "Employed        0.017997\n",
       "PrivateWork     0.019843\n",
       "PublicWork      0.019843\n",
       "SelfEmployed    0.019843\n",
       "FamilyWork      0.019843\n",
       "Unemployment    0.019382\n",
       "dtype: float64"
      ]
     },
     "execution_count": 29,
     "metadata": {},
     "output_type": "execute_result"
    }
   ],
   "source": [
    "(df_1.shape[0] - df_1.count())/(df_1.shape[0])"
   ]
  },
  {
   "cell_type": "code",
   "execution_count": 30,
   "metadata": {},
   "outputs": [
    {
     "data": {
      "text/html": [
       "<div>\n",
       "<table border=\"1\" class=\"dataframe\">\n",
       "  <thead>\n",
       "    <tr style=\"text-align: right;\">\n",
       "      <th></th>\n",
       "      <th>tz</th>\n",
       "      <th>total</th>\n",
       "      <th>male</th>\n",
       "      <th>age_under_29</th>\n",
       "      <th>age_30_54</th>\n",
       "      <th>age_55_over</th>\n",
       "      <th>white</th>\n",
       "      <th>black</th>\n",
       "      <th>asian</th>\n",
       "      <th>others</th>\n",
       "      <th>two_or_more</th>\n",
       "      <th>less_high_school</th>\n",
       "      <th>high_school</th>\n",
       "      <th>college</th>\n",
       "      <th>bachelor</th>\n",
       "    </tr>\n",
       "  </thead>\n",
       "  <tbody>\n",
       "    <tr>\n",
       "      <th>0</th>\n",
       "      <td>2</td>\n",
       "      <td>198</td>\n",
       "      <td>0.545455</td>\n",
       "      <td>0.338384</td>\n",
       "      <td>0.353535</td>\n",
       "      <td>0.308081</td>\n",
       "      <td>0.525253</td>\n",
       "      <td>0.227273</td>\n",
       "      <td>0.146465</td>\n",
       "      <td>0.040404</td>\n",
       "      <td>0.060606</td>\n",
       "      <td>0.121212</td>\n",
       "      <td>0.156566</td>\n",
       "      <td>0.191919</td>\n",
       "      <td>0.191919</td>\n",
       "    </tr>\n",
       "    <tr>\n",
       "      <th>1</th>\n",
       "      <td>3</td>\n",
       "      <td>11398</td>\n",
       "      <td>0.473153</td>\n",
       "      <td>0.223811</td>\n",
       "      <td>0.556764</td>\n",
       "      <td>0.219424</td>\n",
       "      <td>0.525531</td>\n",
       "      <td>0.360239</td>\n",
       "      <td>0.085366</td>\n",
       "      <td>0.010528</td>\n",
       "      <td>0.018337</td>\n",
       "      <td>0.124057</td>\n",
       "      <td>0.178540</td>\n",
       "      <td>0.233901</td>\n",
       "      <td>0.239691</td>\n",
       "    </tr>\n",
       "    <tr>\n",
       "      <th>2</th>\n",
       "      <td>4</td>\n",
       "      <td>12318</td>\n",
       "      <td>0.497240</td>\n",
       "      <td>0.302890</td>\n",
       "      <td>0.521270</td>\n",
       "      <td>0.175840</td>\n",
       "      <td>0.670482</td>\n",
       "      <td>0.167478</td>\n",
       "      <td>0.129161</td>\n",
       "      <td>0.009904</td>\n",
       "      <td>0.022975</td>\n",
       "      <td>0.111625</td>\n",
       "      <td>0.150917</td>\n",
       "      <td>0.194187</td>\n",
       "      <td>0.240380</td>\n",
       "    </tr>\n",
       "    <tr>\n",
       "      <th>3</th>\n",
       "      <td>5</td>\n",
       "      <td>10751</td>\n",
       "      <td>0.515859</td>\n",
       "      <td>0.200353</td>\n",
       "      <td>0.563389</td>\n",
       "      <td>0.236257</td>\n",
       "      <td>0.884848</td>\n",
       "      <td>0.043159</td>\n",
       "      <td>0.061018</td>\n",
       "      <td>0.003349</td>\n",
       "      <td>0.007627</td>\n",
       "      <td>0.073668</td>\n",
       "      <td>0.151242</td>\n",
       "      <td>0.229374</td>\n",
       "      <td>0.345363</td>\n",
       "    </tr>\n",
       "    <tr>\n",
       "      <th>4</th>\n",
       "      <td>6</td>\n",
       "      <td>6729</td>\n",
       "      <td>0.488483</td>\n",
       "      <td>0.209392</td>\n",
       "      <td>0.548670</td>\n",
       "      <td>0.241938</td>\n",
       "      <td>0.756873</td>\n",
       "      <td>0.100609</td>\n",
       "      <td>0.121563</td>\n",
       "      <td>0.007876</td>\n",
       "      <td>0.013078</td>\n",
       "      <td>0.086491</td>\n",
       "      <td>0.156338</td>\n",
       "      <td>0.228563</td>\n",
       "      <td>0.319215</td>\n",
       "    </tr>\n",
       "  </tbody>\n",
       "</table>\n",
       "</div>"
      ],
      "text/plain": [
       "   tz  total      male  age_under_29  age_30_54  age_55_over     white  \\\n",
       "0   2    198  0.545455      0.338384   0.353535     0.308081  0.525253   \n",
       "1   3  11398  0.473153      0.223811   0.556764     0.219424  0.525531   \n",
       "2   4  12318  0.497240      0.302890   0.521270     0.175840  0.670482   \n",
       "3   5  10751  0.515859      0.200353   0.563389     0.236257  0.884848   \n",
       "4   6   6729  0.488483      0.209392   0.548670     0.241938  0.756873   \n",
       "\n",
       "      black     asian    others  two_or_more  less_high_school  high_school  \\\n",
       "0  0.227273  0.146465  0.040404     0.060606          0.121212     0.156566   \n",
       "1  0.360239  0.085366  0.010528     0.018337          0.124057     0.178540   \n",
       "2  0.167478  0.129161  0.009904     0.022975          0.111625     0.150917   \n",
       "3  0.043159  0.061018  0.003349     0.007627          0.073668     0.151242   \n",
       "4  0.100609  0.121563  0.007876     0.013078          0.086491     0.156338   \n",
       "\n",
       "    college  bachelor  \n",
       "0  0.191919  0.191919  \n",
       "1  0.233901  0.239691  \n",
       "2  0.194187  0.240380  \n",
       "3  0.229374  0.345363  \n",
       "4  0.228563  0.319215  "
      ]
     },
     "execution_count": 30,
     "metadata": {},
     "output_type": "execute_result"
    }
   ],
   "source": [
    "df_2 = pd.read_csv(os.getenv(\"PUIDATA\") + \"/\" + 'LEHDR.csv')\n",
    "df_2.head()"
   ]
  },
  {
   "cell_type": "code",
   "execution_count": 13,
   "metadata": {},
   "outputs": [
    {
     "data": {
      "text/plain": [
       "tz                  0\n",
       "total               0\n",
       "male                0\n",
       "age_under_29        0\n",
       "age_30_54           0\n",
       "age_55_over         0\n",
       "white               0\n",
       "black               0\n",
       "asian               0\n",
       "others              0\n",
       "two_or_more         0\n",
       "less_high_school    0\n",
       "high_school         0\n",
       "college             0\n",
       "bachelor            0\n",
       "dtype: int64"
      ]
     },
     "execution_count": 13,
     "metadata": {},
     "output_type": "execute_result"
    }
   ],
   "source": [
    "df_2.shape[0] - df_2.count()"
   ]
  },
  {
   "cell_type": "code",
   "execution_count": 32,
   "metadata": {},
   "outputs": [
    {
     "data": {
      "text/plain": [
       "array([[<matplotlib.axes._subplots.AxesSubplot object at 0x7f42c2029bd0>]], dtype=object)"
      ]
     },
     "execution_count": 32,
     "metadata": {},
     "output_type": "execute_result"
    },
    {
     "data": {
      "image/png": "[encoded data removed]",
      "text/plain": [
       "<matplotlib.figure.Figure at 0x7f42c21fc910>"
      ]
     },
     "metadata": {},
     "output_type": "display_data"
    },
    {
     "data": {
      "image/png": "[encoded data removed]",
      "text/plain": [
       "<matplotlib.figure.Figure at 0x7f42c21fce10>"
      ]
     },
     "metadata": {},
     "output_type": "display_data"
    },
    {
     "data": {
      "image/png": "[encoded data removed]",
      "text/plain": [
       "<matplotlib.figure.Figure at 0x7f42c21acfd0>"
      ]
     },
     "metadata": {},
     "output_type": "display_data"
    }
   ],
   "source": [
    "df_2.hist(column='age_30_54')\n",
    "df_2.hist(column='age_55_over')\n",
    "df_2.hist(column='age_under_29')"
   ]
  },
  {
   "cell_type": "code",
   "execution_count": 34,
   "metadata": {},
   "outputs": [
    {
     "data": {
      "text/plain": [
       "array([[<matplotlib.axes._subplots.AxesSubplot object at 0x7f42c1ae8c90>]], dtype=object)"
      ]
     },
     "execution_count": 34,
     "metadata": {},
     "output_type": "execute_result"
    },
    {
     "data": {
      "image/png": "[encoded data removed]",
      "text/plain": [
       "<matplotlib.figure.Figure at 0x7f42c1cf87d0>"
      ]
     },
     "metadata": {},
     "output_type": "display_data"
    },
    {
     "data": {
      "image/png": "[encoded data removed]",
      "text/plain": [
       "<matplotlib.figure.Figure at 0x7f42c1cf8e10>"
      ]
     },
     "metadata": {},
     "output_type": "display_data"
    },
    {
     "data": {
      "image/png": "[encoded data removed]",
      "text/plain": [
       "<matplotlib.figure.Figure at 0x7f42c1cf8890>"
      ]
     },
     "metadata": {},
     "output_type": "display_data"
    }
   ],
   "source": [
    "df_2.hist(column='white')\n",
    "df_2.hist(column='black')\n",
    "df_2.hist(column='asian')"
   ]
  },
  {
   "cell_type": "code",
   "execution_count": 35,
   "metadata": {},
   "outputs": [
    {
     "data": {
      "text/plain": [
       "array([[<matplotlib.axes._subplots.AxesSubplot object at 0x7f42c17d9c50>]], dtype=object)"
      ]
     },
     "execution_count": 35,
     "metadata": {},
     "output_type": "execute_result"
    },
    {
     "data": {
      "image/png": "[encoded data removed]",
      "text/plain": [
       "<matplotlib.figure.Figure at 0x7f42c195afd0>"
      ]
     },
     "metadata": {},
     "output_type": "display_data"
    },
    {
     "data": {
      "image/png": "[encoded data removed]",
      "text/plain": [
       "<matplotlib.figure.Figure at 0x7f42c195a210>"
      ]
     },
     "metadata": {},
     "output_type": "display_data"
    },
    {
     "data": {
      "image/png": "[encoded data removed]",
      "text/plain": [
       "<matplotlib.figure.Figure at 0x7f42c195ab10>"
      ]
     },
     "metadata": {},
     "output_type": "display_data"
    }
   ],
   "source": [
    "# I don't know what \"others, two or more \"means and there're no females index\n",
    "df_2.hist(column='others')\n",
    "df_2.hist(column='two_or_more')\n",
    "df_2.hist(column='male')"
   ]
  },
  {
   "cell_type": "code",
   "execution_count": 36,
   "metadata": {},
   "outputs": [
    {
     "data": {
      "text/plain": [
       "array([[<matplotlib.axes._subplots.AxesSubplot object at 0x7f42c141e3d0>]], dtype=object)"
      ]
     },
     "execution_count": 36,
     "metadata": {},
     "output_type": "execute_result"
    },
    {
     "data": {
      "image/png": "[encoded data removed]",
      "text/plain": [
       "<matplotlib.figure.Figure at 0x7f42c16bf610>"
      ]
     },
     "metadata": {},
     "output_type": "display_data"
    },
    {
     "data": {
      "image/png": "[encoded data removed]",
      "text/plain": [
       "<matplotlib.figure.Figure at 0x7f42c16bf690>"
      ]
     },
     "metadata": {},
     "output_type": "display_data"
    },
    {
     "data": {
      "image/png": "[encoded data removed]",
      "text/plain": [
       "<matplotlib.figure.Figure at 0x7f42c16bf510>"
      ]
     },
     "metadata": {},
     "output_type": "display_data"
    },
    {
     "data": {
      "image/png": "[encoded data removed]",
      "text/plain": [
       "<matplotlib.figure.Figure at 0x7f42c15ed890>"
      ]
     },
     "metadata": {},
     "output_type": "display_data"
    }
   ],
   "source": [
    "df_2.hist(column='less_high_school')\n",
    "df_2.hist(column='high_school')\n",
    "df_2.hist(column='college')\n",
    "df_2.hist(column='bachelor')"
   ]
  },
  {
   "cell_type": "code",
   "execution_count": 12,
   "metadata": {},
   "outputs": [
    {
     "data": {
      "text/html": [
       "<div>\n",
       "<table border=\"1\" class=\"dataframe\">\n",
       "  <thead>\n",
       "    <tr style=\"text-align: right;\">\n",
       "      <th></th>\n",
       "      <th>tz</th>\n",
       "      <th>total</th>\n",
       "      <th>male</th>\n",
       "      <th>age_under_29</th>\n",
       "      <th>age_30_54</th>\n",
       "      <th>age_55_over</th>\n",
       "      <th>white</th>\n",
       "      <th>black</th>\n",
       "      <th>asian</th>\n",
       "      <th>others</th>\n",
       "      <th>two_or_more</th>\n",
       "      <th>less_high_school</th>\n",
       "      <th>high_school</th>\n",
       "      <th>college</th>\n",
       "      <th>bachelor</th>\n",
       "    </tr>\n",
       "  </thead>\n",
       "  <tbody>\n",
       "    <tr>\n",
       "      <th>0</th>\n",
       "      <td>3</td>\n",
       "      <td>4989</td>\n",
       "      <td>0.373422</td>\n",
       "      <td>0.178793</td>\n",
       "      <td>0.556023</td>\n",
       "      <td>0.265183</td>\n",
       "      <td>0.503708</td>\n",
       "      <td>0.394468</td>\n",
       "      <td>0.077370</td>\n",
       "      <td>0.007817</td>\n",
       "      <td>0.016637</td>\n",
       "      <td>0.127681</td>\n",
       "      <td>0.188615</td>\n",
       "      <td>0.257968</td>\n",
       "      <td>0.246943</td>\n",
       "    </tr>\n",
       "    <tr>\n",
       "      <th>1</th>\n",
       "      <td>4</td>\n",
       "      <td>2717</td>\n",
       "      <td>0.482149</td>\n",
       "      <td>0.253220</td>\n",
       "      <td>0.554288</td>\n",
       "      <td>0.192492</td>\n",
       "      <td>0.693412</td>\n",
       "      <td>0.188443</td>\n",
       "      <td>0.092381</td>\n",
       "      <td>0.008833</td>\n",
       "      <td>0.016930</td>\n",
       "      <td>0.128819</td>\n",
       "      <td>0.159735</td>\n",
       "      <td>0.220464</td>\n",
       "      <td>0.237762</td>\n",
       "    </tr>\n",
       "    <tr>\n",
       "      <th>2</th>\n",
       "      <td>5</td>\n",
       "      <td>1191</td>\n",
       "      <td>0.552477</td>\n",
       "      <td>0.267842</td>\n",
       "      <td>0.529807</td>\n",
       "      <td>0.202351</td>\n",
       "      <td>0.806045</td>\n",
       "      <td>0.116709</td>\n",
       "      <td>0.073048</td>\n",
       "      <td>0.000000</td>\n",
       "      <td>0.004198</td>\n",
       "      <td>0.080605</td>\n",
       "      <td>0.151973</td>\n",
       "      <td>0.215785</td>\n",
       "      <td>0.283795</td>\n",
       "    </tr>\n",
       "    <tr>\n",
       "      <th>3</th>\n",
       "      <td>6</td>\n",
       "      <td>2495</td>\n",
       "      <td>0.428858</td>\n",
       "      <td>0.196794</td>\n",
       "      <td>0.527054</td>\n",
       "      <td>0.276152</td>\n",
       "      <td>0.764329</td>\n",
       "      <td>0.132265</td>\n",
       "      <td>0.082565</td>\n",
       "      <td>0.008016</td>\n",
       "      <td>0.012826</td>\n",
       "      <td>0.066934</td>\n",
       "      <td>0.181563</td>\n",
       "      <td>0.216433</td>\n",
       "      <td>0.338277</td>\n",
       "    </tr>\n",
       "    <tr>\n",
       "      <th>4</th>\n",
       "      <td>7</td>\n",
       "      <td>17223</td>\n",
       "      <td>0.521396</td>\n",
       "      <td>0.232596</td>\n",
       "      <td>0.558033</td>\n",
       "      <td>0.209371</td>\n",
       "      <td>0.704697</td>\n",
       "      <td>0.161935</td>\n",
       "      <td>0.110898</td>\n",
       "      <td>0.008303</td>\n",
       "      <td>0.014167</td>\n",
       "      <td>0.129943</td>\n",
       "      <td>0.179005</td>\n",
       "      <td>0.220345</td>\n",
       "      <td>0.238112</td>\n",
       "    </tr>\n",
       "  </tbody>\n",
       "</table>\n",
       "</div>"
      ],
      "text/plain": [
       "   tz  total      male  age_under_29  age_30_54  age_55_over     white  \\\n",
       "0   3   4989  0.373422      0.178793   0.556023     0.265183  0.503708   \n",
       "1   4   2717  0.482149      0.253220   0.554288     0.192492  0.693412   \n",
       "2   5   1191  0.552477      0.267842   0.529807     0.202351  0.806045   \n",
       "3   6   2495  0.428858      0.196794   0.527054     0.276152  0.764329   \n",
       "4   7  17223  0.521396      0.232596   0.558033     0.209371  0.704697   \n",
       "\n",
       "      black     asian    others  two_or_more  less_high_school  high_school  \\\n",
       "0  0.394468  0.077370  0.007817     0.016637          0.127681     0.188615   \n",
       "1  0.188443  0.092381  0.008833     0.016930          0.128819     0.159735   \n",
       "2  0.116709  0.073048  0.000000     0.004198          0.080605     0.151973   \n",
       "3  0.132265  0.082565  0.008016     0.012826          0.066934     0.181563   \n",
       "4  0.161935  0.110898  0.008303     0.014167          0.129943     0.179005   \n",
       "\n",
       "    college  bachelor  \n",
       "0  0.257968  0.246943  \n",
       "1  0.220464  0.237762  \n",
       "2  0.215785  0.283795  \n",
       "3  0.216433  0.338277  \n",
       "4  0.220345  0.238112  "
      ]
     },
     "execution_count": 12,
     "metadata": {},
     "output_type": "execute_result"
    }
   ],
   "source": [
    "#LEHDW data\n",
    "df_3 = pd.read_csv(os.getenv(\"PUIDATA\") + \"/\" + 'LEHDW.csv')\n",
    "df_3.head()"
   ]
  },
  {
   "cell_type": "code",
   "execution_count": 14,
   "metadata": {},
   "outputs": [
    {
     "data": {
      "text/plain": [
       "tz                  0\n",
       "total               0\n",
       "male                0\n",
       "age_under_29        0\n",
       "age_30_54           0\n",
       "age_55_over         0\n",
       "white               0\n",
       "black               0\n",
       "asian               0\n",
       "others              0\n",
       "two_or_more         0\n",
       "less_high_school    0\n",
       "high_school         0\n",
       "college             0\n",
       "bachelor            0\n",
       "dtype: int64"
      ]
     },
     "execution_count": 14,
     "metadata": {},
     "output_type": "execute_result"
    }
   ],
   "source": [
    "df_3.shape[0] - df_3.count()"
   ]
  },
  {
   "cell_type": "code",
   "execution_count": 37,
   "metadata": {},
   "outputs": [
    {
     "data": {
      "text/plain": [
       "array([[<matplotlib.axes._subplots.AxesSubplot object at 0x7f42c12ee290>]], dtype=object)"
      ]
     },
     "execution_count": 37,
     "metadata": {},
     "output_type": "execute_result"
    },
    {
     "data": {
      "image/png": "[encoded data removed]",
      "text/plain": [
       "<matplotlib.figure.Figure at 0x7f42c12a7350>"
      ]
     },
     "metadata": {},
     "output_type": "display_data"
    },
    {
     "data": {
      "image/png": "[encoded data removed]",
      "text/plain": [
       "<matplotlib.figure.Figure at 0x7f42c12a7510>"
      ]
     },
     "metadata": {},
     "output_type": "display_data"
    },
    {
     "data": {
      "image/png": "[encoded data removed]",
      "text/plain": [
       "<matplotlib.figure.Figure at 0x7f42c270ccd0>"
      ]
     },
     "metadata": {},
     "output_type": "display_data"
    }
   ],
   "source": [
    "df_3.hist(column='age_30_54')\n",
    "df_3.hist(column='age_55_over')\n",
    "df_3.hist(column='age_under_29')"
   ]
  },
  {
   "cell_type": "code",
   "execution_count": 39,
   "metadata": {},
   "outputs": [
    {
     "data": {
      "text/plain": [
       "array([[<matplotlib.axes._subplots.AxesSubplot object at 0x7f42c1f24210>]], dtype=object)"
      ]
     },
     "execution_count": 39,
     "metadata": {},
     "output_type": "execute_result"
    },
    {
     "data": {
      "image/png": "[encoded data removed]",
      "text/plain": [
       "<matplotlib.figure.Figure at 0x7f42c152f490>"
      ]
     },
     "metadata": {},
     "output_type": "display_data"
    },
    {
     "data": {
      "image/png": "[encoded data removed]",
      "text/plain": [
       "<matplotlib.figure.Figure at 0x7f42c19fa0d0>"
      ]
     },
     "metadata": {},
     "output_type": "display_data"
    },
    {
     "data": {
      "image/png": "[encoded data removed]",
      "text/plain": [
       "<matplotlib.figure.Figure at 0x7f42c1fd7150>"
      ]
     },
     "metadata": {},
     "output_type": "display_data"
    }
   ],
   "source": [
    "df_3.hist(column='white')\n",
    "df_3.hist(column='black')\n",
    "df_3.hist(column='asian')"
   ]
  },
  {
   "cell_type": "code",
   "execution_count": 40,
   "metadata": {},
   "outputs": [
    {
     "data": {
      "text/plain": [
       "array([[<matplotlib.axes._subplots.AxesSubplot object at 0x7f42c1d61850>]], dtype=object)"
      ]
     },
     "execution_count": 40,
     "metadata": {},
     "output_type": "execute_result"
    },
    {
     "data": {
      "image/png": "[encoded data removed]",
      "text/plain": [
       "<matplotlib.figure.Figure at 0x7f42c15c72d0>"
      ]
     },
     "metadata": {},
     "output_type": "display_data"
    },
    {
     "data": {
      "image/png": "[encoded data removed]",
      "text/plain": [
       "<matplotlib.figure.Figure at 0x7f42c15c7610>"
      ]
     },
     "metadata": {},
     "output_type": "display_data"
    },
    {
     "data": {
      "image/png": "[encoded data removed]",
      "text/plain": [
       "<matplotlib.figure.Figure at 0x7f42c15a2f50>"
      ]
     },
     "metadata": {},
     "output_type": "display_data"
    }
   ],
   "source": [
    "# I don't know what \"others, two or more \"means and there're no females index\n",
    "df_3.hist(column='others')\n",
    "df_3.hist(column='two_or_more')\n",
    "df_3.hist(column='male')"
   ]
  },
  {
   "cell_type": "code",
   "execution_count": 42,
   "metadata": {},
   "outputs": [
    {
     "data": {
      "text/plain": [
       "array([[<matplotlib.axes._subplots.AxesSubplot object at 0x7f42c0bfcdd0>]], dtype=object)"
      ]
     },
     "execution_count": 42,
     "metadata": {},
     "output_type": "execute_result"
    },
    {
     "data": {
      "image/png": "[encoded data removed]",
      "text/plain": [
       "<matplotlib.figure.Figure at 0x7f42c10ccd90>"
      ]
     },
     "metadata": {},
     "output_type": "display_data"
    },
    {
     "data": {
      "image/png": "[encoded data removed]",
      "text/plain": [
       "<matplotlib.figure.Figure at 0x7f42c0e70790>"
      ]
     },
     "metadata": {},
     "output_type": "display_data"
    },
    {
     "data": {
      "image/png": "[encoded data removed]",
      "text/plain": [
       "<matplotlib.figure.Figure at 0x7f42c0e55950>"
      ]
     },
     "metadata": {},
     "output_type": "display_data"
    },
    {
     "data": {
      "image/png": "[encoded data removed]",
      "text/plain": [
       "<matplotlib.figure.Figure at 0x7f42c0d58490>"
      ]
     },
     "metadata": {},
     "output_type": "display_data"
    }
   ],
   "source": [
    "df_3.hist(column='less_high_school')\n",
    "df_3.hist(column='high_school')\n",
    "df_3.hist(column='college')\n",
    "df_3.hist(column='bachelor')"
   ]
  },
  {
   "cell_type": "code",
   "execution_count": 22,
   "metadata": {},
   "outputs": [
    {
     "data": {
      "text/html": [
       "<div>\n",
       "<table border=\"1\" class=\"dataframe\">\n",
       "  <thead>\n",
       "    <tr style=\"text-align: right;\">\n",
       "      <th></th>\n",
       "      <th>pickup_datetime</th>\n",
       "      <th>tempm</th>\n",
       "      <th>tempi</th>\n",
       "      <th>dewptm</th>\n",
       "      <th>dewpti</th>\n",
       "      <th>hum</th>\n",
       "      <th>wspdm</th>\n",
       "      <th>wspdi</th>\n",
       "      <th>wgustm</th>\n",
       "      <th>wgusti</th>\n",
       "      <th>...</th>\n",
       "      <th>precipm</th>\n",
       "      <th>precipi</th>\n",
       "      <th>conds</th>\n",
       "      <th>icon</th>\n",
       "      <th>fog</th>\n",
       "      <th>rain</th>\n",
       "      <th>snow</th>\n",
       "      <th>hail</th>\n",
       "      <th>thunder</th>\n",
       "      <th>tornado</th>\n",
       "    </tr>\n",
       "  </thead>\n",
       "  <tbody>\n",
       "    <tr>\n",
       "      <th>0</th>\n",
       "      <td>2015-12-31 00:15:00</td>\n",
       "      <td>7.8</td>\n",
       "      <td>46.0</td>\n",
       "      <td>6.1</td>\n",
       "      <td>43.0</td>\n",
       "      <td>89.0</td>\n",
       "      <td>7.4</td>\n",
       "      <td>4.6</td>\n",
       "      <td>NaN</td>\n",
       "      <td>NaN</td>\n",
       "      <td>...</td>\n",
       "      <td>0.5</td>\n",
       "      <td>0.02</td>\n",
       "      <td>Light Rain</td>\n",
       "      <td>rain</td>\n",
       "      <td>0</td>\n",
       "      <td>1</td>\n",
       "      <td>0</td>\n",
       "      <td>0</td>\n",
       "      <td>0</td>\n",
       "      <td>0</td>\n",
       "    </tr>\n",
       "    <tr>\n",
       "      <th>1</th>\n",
       "      <td>2015-12-31 00:42:00</td>\n",
       "      <td>7.8</td>\n",
       "      <td>46.0</td>\n",
       "      <td>6.1</td>\n",
       "      <td>43.0</td>\n",
       "      <td>89.0</td>\n",
       "      <td>7.4</td>\n",
       "      <td>4.6</td>\n",
       "      <td>NaN</td>\n",
       "      <td>NaN</td>\n",
       "      <td>...</td>\n",
       "      <td>0.8</td>\n",
       "      <td>0.03</td>\n",
       "      <td>Overcast</td>\n",
       "      <td>cloudy</td>\n",
       "      <td>0</td>\n",
       "      <td>0</td>\n",
       "      <td>0</td>\n",
       "      <td>0</td>\n",
       "      <td>0</td>\n",
       "      <td>0</td>\n",
       "    </tr>\n",
       "    <tr>\n",
       "      <th>2</th>\n",
       "      <td>2015-12-31 00:51:00</td>\n",
       "      <td>7.8</td>\n",
       "      <td>46.0</td>\n",
       "      <td>6.1</td>\n",
       "      <td>43.0</td>\n",
       "      <td>89.0</td>\n",
       "      <td>5.6</td>\n",
       "      <td>3.5</td>\n",
       "      <td>NaN</td>\n",
       "      <td>NaN</td>\n",
       "      <td>...</td>\n",
       "      <td>0.8</td>\n",
       "      <td>0.03</td>\n",
       "      <td>Overcast</td>\n",
       "      <td>cloudy</td>\n",
       "      <td>0</td>\n",
       "      <td>0</td>\n",
       "      <td>0</td>\n",
       "      <td>0</td>\n",
       "      <td>0</td>\n",
       "      <td>0</td>\n",
       "    </tr>\n",
       "    <tr>\n",
       "      <th>3</th>\n",
       "      <td>2015-12-31 01:51:00</td>\n",
       "      <td>7.2</td>\n",
       "      <td>45.0</td>\n",
       "      <td>5.6</td>\n",
       "      <td>42.1</td>\n",
       "      <td>90.0</td>\n",
       "      <td>7.4</td>\n",
       "      <td>4.6</td>\n",
       "      <td>NaN</td>\n",
       "      <td>NaN</td>\n",
       "      <td>...</td>\n",
       "      <td>0.3</td>\n",
       "      <td>0.01</td>\n",
       "      <td>Overcast</td>\n",
       "      <td>cloudy</td>\n",
       "      <td>0</td>\n",
       "      <td>0</td>\n",
       "      <td>0</td>\n",
       "      <td>0</td>\n",
       "      <td>0</td>\n",
       "      <td>0</td>\n",
       "    </tr>\n",
       "    <tr>\n",
       "      <th>4</th>\n",
       "      <td>2015-12-31 02:51:00</td>\n",
       "      <td>7.2</td>\n",
       "      <td>45.0</td>\n",
       "      <td>5.6</td>\n",
       "      <td>42.1</td>\n",
       "      <td>90.0</td>\n",
       "      <td>0.0</td>\n",
       "      <td>0.0</td>\n",
       "      <td>NaN</td>\n",
       "      <td>NaN</td>\n",
       "      <td>...</td>\n",
       "      <td>NaN</td>\n",
       "      <td>NaN</td>\n",
       "      <td>Overcast</td>\n",
       "      <td>cloudy</td>\n",
       "      <td>0</td>\n",
       "      <td>0</td>\n",
       "      <td>0</td>\n",
       "      <td>0</td>\n",
       "      <td>0</td>\n",
       "      <td>0</td>\n",
       "    </tr>\n",
       "  </tbody>\n",
       "</table>\n",
       "<p>5 rows × 30 columns</p>\n",
       "</div>"
      ],
      "text/plain": [
       "       pickup_datetime  tempm  tempi  dewptm  dewpti   hum  wspdm  wspdi  \\\n",
       "0  2015-12-31 00:15:00    7.8   46.0     6.1    43.0  89.0    7.4    4.6   \n",
       "1  2015-12-31 00:42:00    7.8   46.0     6.1    43.0  89.0    7.4    4.6   \n",
       "2  2015-12-31 00:51:00    7.8   46.0     6.1    43.0  89.0    5.6    3.5   \n",
       "3  2015-12-31 01:51:00    7.2   45.0     5.6    42.1  90.0    7.4    4.6   \n",
       "4  2015-12-31 02:51:00    7.2   45.0     5.6    42.1  90.0    0.0    0.0   \n",
       "\n",
       "   wgustm  wgusti   ...     precipm precipi       conds    icon  fog  rain  \\\n",
       "0     NaN     NaN   ...         0.5    0.02  Light Rain    rain    0     1   \n",
       "1     NaN     NaN   ...         0.8    0.03    Overcast  cloudy    0     0   \n",
       "2     NaN     NaN   ...         0.8    0.03    Overcast  cloudy    0     0   \n",
       "3     NaN     NaN   ...         0.3    0.01    Overcast  cloudy    0     0   \n",
       "4     NaN     NaN   ...         NaN     NaN    Overcast  cloudy    0     0   \n",
       "\n",
       "   snow  hail  thunder  tornado  \n",
       "0     0     0        0        0  \n",
       "1     0     0        0        0  \n",
       "2     0     0        0        0  \n",
       "3     0     0        0        0  \n",
       "4     0     0        0        0  \n",
       "\n",
       "[5 rows x 30 columns]"
      ]
     },
     "execution_count": 22,
     "metadata": {},
     "output_type": "execute_result"
    }
   ],
   "source": [
    "#weather data\n",
    "df_4 = pd.read_csv(os.getenv(\"PUIDATA\") + \"/\" + 'Weather.csv')\n",
    "df_4.head()"
   ]
  },
  {
   "cell_type": "code",
   "execution_count": 44,
   "metadata": {},
   "outputs": [
    {
     "data": {
      "text/plain": [
       "pickup_datetime    0.000000\n",
       "tempm              0.000477\n",
       "tempi              0.000477\n",
       "dewptm             0.000477\n",
       "dewpti             0.000477\n",
       "hum                0.000477\n",
       "wspdm              0.070318\n",
       "wspdi              0.070318\n",
       "wgustm             0.821009\n",
       "wgusti             0.821009\n",
       "wdird              0.000000\n",
       "wdire              0.000000\n",
       "vism               0.023376\n",
       "visi               0.023376\n",
       "pressurem          0.022803\n",
       "pressurei          0.022803\n",
       "windchillm         0.741819\n",
       "windchilli         0.741819\n",
       "heatindexm         0.920141\n",
       "heatindexi         0.920141\n",
       "precipm            0.837229\n",
       "precipi            0.837229\n",
       "conds              0.000000\n",
       "icon               0.000000\n",
       "fog                0.000000\n",
       "rain               0.000000\n",
       "snow               0.000000\n",
       "hail               0.000000\n",
       "thunder            0.000000\n",
       "tornado            0.000000\n",
       "dtype: float64"
      ]
     },
     "execution_count": 44,
     "metadata": {},
     "output_type": "execute_result"
    }
   ],
   "source": [
    "(df_4.shape[0] - df_4.count())/(df_4.shape[0])"
   ]
  }
 ],
 "metadata": {
  "kernelspec": {
   "display_name": "PUI2016_Python2",
   "language": "python",
   "name": "pui2016_python2"
  },
  "language_info": {
   "codemirror_mode": {
    "name": "ipython",
    "version": 2
   },
   "file_extension": ".py",
   "mimetype": "text/x-python",
   "name": "python",
   "nbconvert_exporter": "python",
   "pygments_lexer": "ipython2",
   "version": "2.7.12"
  }
 },
 "nbformat": 4,
 "nbformat_minor": 2
}
