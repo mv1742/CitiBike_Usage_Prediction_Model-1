{
 "cells": [
  {
   "cell_type": "markdown",
   "metadata": {},
   "source": [
    "# In this part, I will try to figure out the nearest distance of each CitiBike station and the density of each CitiBike station. Of course, I need to narrow down the radius.\n",
    "\n",
    "## 1. I  calculate the distance of CitiBike stations.\n",
    "\n",
    "## 2. Plot all 20 nearest distances of each CitiBike stations and find out the best radius used to calculate density.\n",
    "\n",
    "## 3. Get the nearest distance of each CitiBike station and the density."
   ]
  },
  {
   "cell_type": "code",
   "execution_count": 83,
   "metadata": {},
   "outputs": [
    {
     "name": "stdout",
     "output_type": "stream",
     "text": [
      "Populating the interactive namespace from numpy and matplotlib\n"
     ]
    }
   ],
   "source": [
    "from __future__ import print_function\n",
    "import pylab as pl\n",
    "import pandas as pd\n",
    "import geopy.distance\n",
    "import numpy as np\n",
    "%pylab inline\n",
    "\n",
    "try:\n",
    "    import urllib2 as urllib\n",
    "except ImportError:\n",
    "    import urllib.request as urllib"
   ]
  },
  {
   "cell_type": "code",
   "execution_count": 84,
   "metadata": {},
   "outputs": [],
   "source": [
    "station_information = pd.read_csv('data/station_information.csv')"
   ]
  },
  {
   "cell_type": "code",
   "execution_count": 85,
   "metadata": {},
   "outputs": [
    {
     "data": {
      "text/html": [
       "<div>\n",
       "<table border=\"1\" class=\"dataframe\">\n",
       "  <thead>\n",
       "    <tr style=\"text-align: right;\">\n",
       "      <th></th>\n",
       "      <th>capacity</th>\n",
       "      <th>external_id</th>\n",
       "      <th>has_kiosk</th>\n",
       "      <th>lat</th>\n",
       "      <th>lon</th>\n",
       "      <th>name</th>\n",
       "      <th>region_id</th>\n",
       "      <th>rental_methods</th>\n",
       "      <th>rental_url</th>\n",
       "      <th>short_name</th>\n",
       "      <th>station_id</th>\n",
       "      <th>eightd_has_key_dispenser</th>\n",
       "      <th>bikes_availability</th>\n",
       "      <th>description</th>\n",
       "      <th>docks_availability</th>\n",
       "      <th>id_num</th>\n",
       "      <th>services_name</th>\n",
       "      <th>schedule_description</th>\n",
       "      <th>service_type</th>\n",
       "    </tr>\n",
       "  </thead>\n",
       "  <tbody>\n",
       "    <tr>\n",
       "      <th>0</th>\n",
       "      <td>37</td>\n",
       "      <td>66db6aae-0aca-11e7-82f6-3863bb44ef7c</td>\n",
       "      <td>True</td>\n",
       "      <td>40.722174</td>\n",
       "      <td>-73.983688</td>\n",
       "      <td>E 2 St &amp; Avenue B</td>\n",
       "      <td>71.0</td>\n",
       "      <td>['KEY', 'CREDITCARD']</td>\n",
       "      <td>http://app.citibikenyc.com/S6Lr/IBV092JufD?sta...</td>\n",
       "      <td>5515.02</td>\n",
       "      <td>301</td>\n",
       "      <td>False</td>\n",
       "      <td>UNLIMITED</td>\n",
       "      <td>Citi Bike Station Valet attendant service avai...</td>\n",
       "      <td>UNLIMITED</td>\n",
       "      <td>c36f6075-0d24-479b-8018-30790d303769</td>\n",
       "      <td>Valet Service</td>\n",
       "      <td>NaN</td>\n",
       "      <td>ATTENDED_SERVICE</td>\n",
       "    </tr>\n",
       "    <tr>\n",
       "      <th>1</th>\n",
       "      <td>52</td>\n",
       "      <td>66dc1beb-0aca-11e7-82f6-3863bb44ef7c</td>\n",
       "      <td>True</td>\n",
       "      <td>40.727408</td>\n",
       "      <td>-73.981420</td>\n",
       "      <td>E 10 St &amp; Avenue A</td>\n",
       "      <td>71.0</td>\n",
       "      <td>['KEY', 'CREDITCARD']</td>\n",
       "      <td>http://app.citibikenyc.com/S6Lr/IBV092JufD?sta...</td>\n",
       "      <td>5659.05</td>\n",
       "      <td>445</td>\n",
       "      <td>False</td>\n",
       "      <td>UNLIMITED</td>\n",
       "      <td>Citi Bike Station Valet attendant service avai...</td>\n",
       "      <td>UNLIMITED</td>\n",
       "      <td>2f6485e5-7604-4c91-b32b-fe7173398845</td>\n",
       "      <td>Valet Service</td>\n",
       "      <td>NaN</td>\n",
       "      <td>ATTENDED_SERVICE</td>\n",
       "    </tr>\n",
       "    <tr>\n",
       "      <th>2</th>\n",
       "      <td>34</td>\n",
       "      <td>66dc4dc3-0aca-11e7-82f6-3863bb44ef7c</td>\n",
       "      <td>True</td>\n",
       "      <td>40.733143</td>\n",
       "      <td>-73.975739</td>\n",
       "      <td>E 20 St &amp; FDR Drive</td>\n",
       "      <td>71.0</td>\n",
       "      <td>['KEY', 'CREDITCARD']</td>\n",
       "      <td>http://app.citibikenyc.com/S6Lr/IBV092JufD?sta...</td>\n",
       "      <td>5886.02</td>\n",
       "      <td>487</td>\n",
       "      <td>False</td>\n",
       "      <td>UNLIMITED</td>\n",
       "      <td>Citi Bike Valet station attendant service avai...</td>\n",
       "      <td>UNLIMITED</td>\n",
       "      <td>471a101b-a45d-4495-9adf-364b7b014ffb</td>\n",
       "      <td>Valet Service</td>\n",
       "      <td>NaN</td>\n",
       "      <td>ATTENDED_SERVICE</td>\n",
       "    </tr>\n",
       "    <tr>\n",
       "      <th>3</th>\n",
       "      <td>44</td>\n",
       "      <td>66dc7802-0aca-11e7-82f6-3863bb44ef7c</td>\n",
       "      <td>True</td>\n",
       "      <td>40.732219</td>\n",
       "      <td>-73.981656</td>\n",
       "      <td>1 Ave &amp; E 16 St</td>\n",
       "      <td>71.0</td>\n",
       "      <td>['KEY', 'CREDITCARD']</td>\n",
       "      <td>http://app.citibikenyc.com/S6Lr/IBV092JufD?sta...</td>\n",
       "      <td>5779.08</td>\n",
       "      <td>504</td>\n",
       "      <td>False</td>\n",
       "      <td>UNLIMITED</td>\n",
       "      <td>Citi Bike Valet station attendant service avai...</td>\n",
       "      <td>UNLIMITED</td>\n",
       "      <td>cde236b8-4fa7-418c-886f-a4f4ab2cb784</td>\n",
       "      <td>Valet Service</td>\n",
       "      <td>NaN</td>\n",
       "      <td>ATTENDED_SERVICE</td>\n",
       "    </tr>\n",
       "    <tr>\n",
       "      <th>4</th>\n",
       "      <td>39</td>\n",
       "      <td>66db237e-0aca-11e7-82f6-3863bb44ef7c</td>\n",
       "      <td>True</td>\n",
       "      <td>40.767272</td>\n",
       "      <td>-73.993929</td>\n",
       "      <td>W 52 St &amp; 11 Ave</td>\n",
       "      <td>71.0</td>\n",
       "      <td>['KEY', 'CREDITCARD']</td>\n",
       "      <td>http://app.citibikenyc.com/S6Lr/IBV092JufD?sta...</td>\n",
       "      <td>6926.01</td>\n",
       "      <td>72</td>\n",
       "      <td>False</td>\n",
       "      <td>NaN</td>\n",
       "      <td>NaN</td>\n",
       "      <td>NaN</td>\n",
       "      <td>NaN</td>\n",
       "      <td>NaN</td>\n",
       "      <td>NaN</td>\n",
       "      <td>NaN</td>\n",
       "    </tr>\n",
       "  </tbody>\n",
       "</table>\n",
       "</div>"
      ],
      "text/plain": [
       "   capacity                           external_id has_kiosk        lat  \\\n",
       "0        37  66db6aae-0aca-11e7-82f6-3863bb44ef7c      True  40.722174   \n",
       "1        52  66dc1beb-0aca-11e7-82f6-3863bb44ef7c      True  40.727408   \n",
       "2        34  66dc4dc3-0aca-11e7-82f6-3863bb44ef7c      True  40.733143   \n",
       "3        44  66dc7802-0aca-11e7-82f6-3863bb44ef7c      True  40.732219   \n",
       "4        39  66db237e-0aca-11e7-82f6-3863bb44ef7c      True  40.767272   \n",
       "\n",
       "         lon                 name  region_id         rental_methods  \\\n",
       "0 -73.983688    E 2 St & Avenue B       71.0  ['KEY', 'CREDITCARD']   \n",
       "1 -73.981420   E 10 St & Avenue A       71.0  ['KEY', 'CREDITCARD']   \n",
       "2 -73.975739  E 20 St & FDR Drive       71.0  ['KEY', 'CREDITCARD']   \n",
       "3 -73.981656      1 Ave & E 16 St       71.0  ['KEY', 'CREDITCARD']   \n",
       "4 -73.993929     W 52 St & 11 Ave       71.0  ['KEY', 'CREDITCARD']   \n",
       "\n",
       "                                          rental_url short_name  station_id  \\\n",
       "0  http://app.citibikenyc.com/S6Lr/IBV092JufD?sta...    5515.02         301   \n",
       "1  http://app.citibikenyc.com/S6Lr/IBV092JufD?sta...    5659.05         445   \n",
       "2  http://app.citibikenyc.com/S6Lr/IBV092JufD?sta...    5886.02         487   \n",
       "3  http://app.citibikenyc.com/S6Lr/IBV092JufD?sta...    5779.08         504   \n",
       "4  http://app.citibikenyc.com/S6Lr/IBV092JufD?sta...    6926.01          72   \n",
       "\n",
       "  eightd_has_key_dispenser bikes_availability  \\\n",
       "0                    False          UNLIMITED   \n",
       "1                    False          UNLIMITED   \n",
       "2                    False          UNLIMITED   \n",
       "3                    False          UNLIMITED   \n",
       "4                    False                NaN   \n",
       "\n",
       "                                         description docks_availability  \\\n",
       "0  Citi Bike Station Valet attendant service avai...          UNLIMITED   \n",
       "1  Citi Bike Station Valet attendant service avai...          UNLIMITED   \n",
       "2  Citi Bike Valet station attendant service avai...          UNLIMITED   \n",
       "3  Citi Bike Valet station attendant service avai...          UNLIMITED   \n",
       "4                                                NaN                NaN   \n",
       "\n",
       "                                 id_num  services_name  schedule_description  \\\n",
       "0  c36f6075-0d24-479b-8018-30790d303769  Valet Service                   NaN   \n",
       "1  2f6485e5-7604-4c91-b32b-fe7173398845  Valet Service                   NaN   \n",
       "2  471a101b-a45d-4495-9adf-364b7b014ffb  Valet Service                   NaN   \n",
       "3  cde236b8-4fa7-418c-886f-a4f4ab2cb784  Valet Service                   NaN   \n",
       "4                                   NaN            NaN                   NaN   \n",
       "\n",
       "       service_type  \n",
       "0  ATTENDED_SERVICE  \n",
       "1  ATTENDED_SERVICE  \n",
       "2  ATTENDED_SERVICE  \n",
       "3  ATTENDED_SERVICE  \n",
       "4               NaN  "
      ]
     },
     "execution_count": 85,
     "metadata": {},
     "output_type": "execute_result"
    }
   ],
   "source": [
    "station_information.head()"
   ]
  },
  {
   "cell_type": "code",
   "execution_count": 86,
   "metadata": {},
   "outputs": [
    {
     "data": {
      "text/plain": [
       "Index(['capacity', 'external_id', 'has_kiosk', 'lat', 'lon', 'name',\n",
       "       'region_id', 'rental_methods', 'rental_url', 'short_name', 'station_id',\n",
       "       'eightd_has_key_dispenser', 'bikes_availability', 'description',\n",
       "       'docks_availability', 'id_num', 'services_name', 'schedule_description',\n",
       "       'service_type'],\n",
       "      dtype='object')"
      ]
     },
     "execution_count": 86,
     "metadata": {},
     "output_type": "execute_result"
    }
   ],
   "source": [
    "station_information.columns"
   ]
  },
  {
   "cell_type": "code",
   "execution_count": 87,
   "metadata": {},
   "outputs": [],
   "source": [
    "#station_information_short\n",
    "\n",
    "station_information.drop(['has_kiosk', 'external_id', 'rental_url', 'description', 'id_num', 'services_name', \n",
    "                          'schedule_description', 'service_type', 'eightd_has_key_dispenser', 'bikes_availability',\n",
    "                          'docks_availability', 'rental_methods', 'short_name'], axis=1, inplace=True)"
   ]
  },
  {
   "cell_type": "code",
   "execution_count": 88,
   "metadata": {},
   "outputs": [
    {
     "data": {
      "text/html": [
       "<div>\n",
       "<table border=\"1\" class=\"dataframe\">\n",
       "  <thead>\n",
       "    <tr style=\"text-align: right;\">\n",
       "      <th></th>\n",
       "      <th>capacity</th>\n",
       "      <th>lat</th>\n",
       "      <th>lon</th>\n",
       "      <th>name</th>\n",
       "      <th>region_id</th>\n",
       "      <th>station_id</th>\n",
       "    </tr>\n",
       "  </thead>\n",
       "  <tbody>\n",
       "    <tr>\n",
       "      <th>0</th>\n",
       "      <td>37</td>\n",
       "      <td>40.722174</td>\n",
       "      <td>-73.983688</td>\n",
       "      <td>E 2 St &amp; Avenue B</td>\n",
       "      <td>71.0</td>\n",
       "      <td>301</td>\n",
       "    </tr>\n",
       "    <tr>\n",
       "      <th>1</th>\n",
       "      <td>52</td>\n",
       "      <td>40.727408</td>\n",
       "      <td>-73.981420</td>\n",
       "      <td>E 10 St &amp; Avenue A</td>\n",
       "      <td>71.0</td>\n",
       "      <td>445</td>\n",
       "    </tr>\n",
       "    <tr>\n",
       "      <th>2</th>\n",
       "      <td>34</td>\n",
       "      <td>40.733143</td>\n",
       "      <td>-73.975739</td>\n",
       "      <td>E 20 St &amp; FDR Drive</td>\n",
       "      <td>71.0</td>\n",
       "      <td>487</td>\n",
       "    </tr>\n",
       "    <tr>\n",
       "      <th>3</th>\n",
       "      <td>44</td>\n",
       "      <td>40.732219</td>\n",
       "      <td>-73.981656</td>\n",
       "      <td>1 Ave &amp; E 16 St</td>\n",
       "      <td>71.0</td>\n",
       "      <td>504</td>\n",
       "    </tr>\n",
       "    <tr>\n",
       "      <th>4</th>\n",
       "      <td>39</td>\n",
       "      <td>40.767272</td>\n",
       "      <td>-73.993929</td>\n",
       "      <td>W 52 St &amp; 11 Ave</td>\n",
       "      <td>71.0</td>\n",
       "      <td>72</td>\n",
       "    </tr>\n",
       "  </tbody>\n",
       "</table>\n",
       "</div>"
      ],
      "text/plain": [
       "   capacity        lat        lon                 name  region_id  station_id\n",
       "0        37  40.722174 -73.983688    E 2 St & Avenue B       71.0         301\n",
       "1        52  40.727408 -73.981420   E 10 St & Avenue A       71.0         445\n",
       "2        34  40.733143 -73.975739  E 20 St & FDR Drive       71.0         487\n",
       "3        44  40.732219 -73.981656      1 Ave & E 16 St       71.0         504\n",
       "4        39  40.767272 -73.993929     W 52 St & 11 Ave       71.0          72"
      ]
     },
     "execution_count": 88,
     "metadata": {},
     "output_type": "execute_result"
    }
   ],
   "source": [
    "station_information.head()"
   ]
  },
  {
   "cell_type": "code",
   "execution_count": 89,
   "metadata": {},
   "outputs": [],
   "source": [
    "station_information['latlon'] = list(zip(station_information.lat, station_information.lon))"
   ]
  },
  {
   "cell_type": "code",
   "execution_count": 93,
   "metadata": {},
   "outputs": [
    {
     "name": "stderr",
     "output_type": "stream",
     "text": [
      "/usr/local/Anaconda3-5.0.0-Linux-x86_64/envs/PUI2016_Python3/lib/python3.5/site-packages/ipykernel/__main__.py:18: SettingWithCopyWarning: \n",
      "A value is trying to be set on a copy of a slice from a DataFrame\n",
      "\n",
      "See the caveats in the documentation: http://pandas.pydata.org/pandas-docs/stable/indexing.html#indexing-view-versus-copy\n",
      "/usr/local/Anaconda3-5.0.0-Linux-x86_64/envs/PUI2016_Python3/lib/python3.5/site-packages/ipykernel/__main__.py:19: SettingWithCopyWarning: \n",
      "A value is trying to be set on a copy of a slice from a DataFrame\n",
      "\n",
      "See the caveats in the documentation: http://pandas.pydata.org/pandas-docs/stable/indexing.html#indexing-view-versus-copy\n"
     ]
    },
    {
     "name": "stdout",
     "output_type": "stream",
     "text": [
      "0\n",
      "50\n",
      "100\n",
      "150\n",
      "200\n",
      "250\n",
      "300\n",
      "350\n",
      "400\n",
      "450\n",
      "500\n",
      "550\n",
      "600\n",
      "650\n",
      "700\n",
      "750\n",
      "800\n"
     ]
    }
   ],
   "source": [
    "#station_information['all_distance'] = None\n",
    "station_information['nearest20'] = None\n",
    "station_information['nearest'] = None\n",
    "station_information['nearest_station_id'] = None\n",
    "nearest_20 = []\n",
    "all_distance = []\n",
    "for i in range(len(station_information)-1):\n",
    "    distances = []\n",
    "    for j in range(len(station_information)-1):\n",
    "        distances.append(geopy.distance.vincenty(station_information.latlon[i], station_information.latlon[j]).km)\n",
    "        #distance_all = distance_all.drop(0)\n",
    "    \n",
    "    #print(distance_all)\n",
    "    #station_information['all_distance'] = distance_all\n",
    "    station_information['nearest_station_id'] = station_information['station_id'][np.argsort(distances)[1]] \n",
    "    \n",
    "    sorted_distances = sorted(distances)\n",
    "    station_information['nearest20'][i] = sorted_distances[1:20]\n",
    "    station_information['nearest'][i] = sorted_distances[1]\n",
    "    nearest_20.extend(sorted_distances[1:20])\n",
    "    #all_distance.extend(distances[])\n",
    "    #print(sorted(distance_all)[0:20])\n",
    "    if i%50 == 0:\n",
    "        print(i)"
   ]
  },
  {
   "cell_type": "code",
   "execution_count": 94,
   "metadata": {},
   "outputs": [
    {
     "data": {
      "text/html": [
       "<div>\n",
       "<table border=\"1\" class=\"dataframe\">\n",
       "  <thead>\n",
       "    <tr style=\"text-align: right;\">\n",
       "      <th></th>\n",
       "      <th>capacity</th>\n",
       "      <th>lat</th>\n",
       "      <th>lon</th>\n",
       "      <th>name</th>\n",
       "      <th>region_id</th>\n",
       "      <th>station_id</th>\n",
       "      <th>latlon</th>\n",
       "      <th>nearest20</th>\n",
       "      <th>nearest</th>\n",
       "      <th>nearest_station_id</th>\n",
       "    </tr>\n",
       "  </thead>\n",
       "  <tbody>\n",
       "    <tr>\n",
       "      <th>0</th>\n",
       "      <td>37</td>\n",
       "      <td>40.722174</td>\n",
       "      <td>-73.983688</td>\n",
       "      <td>E 2 St &amp; Avenue B</td>\n",
       "      <td>71.0</td>\n",
       "      <td>301</td>\n",
       "      <td>(40.72217444, -73.98368779)</td>\n",
       "      <td>[0.20737310887239177, 0.20978155510713206, 0.2...</td>\n",
       "      <td>0.207373</td>\n",
       "      <td>3632</td>\n",
       "    </tr>\n",
       "    <tr>\n",
       "      <th>1</th>\n",
       "      <td>52</td>\n",
       "      <td>40.727408</td>\n",
       "      <td>-73.981420</td>\n",
       "      <td>E 10 St &amp; Avenue A</td>\n",
       "      <td>71.0</td>\n",
       "      <td>445</td>\n",
       "      <td>(40.72740794, -73.98142006)</td>\n",
       "      <td>[0.2315706130946069, 0.2405019077381504, 0.258...</td>\n",
       "      <td>0.231571</td>\n",
       "      <td>3632</td>\n",
       "    </tr>\n",
       "    <tr>\n",
       "      <th>2</th>\n",
       "      <td>34</td>\n",
       "      <td>40.733143</td>\n",
       "      <td>-73.975739</td>\n",
       "      <td>E 20 St &amp; FDR Drive</td>\n",
       "      <td>71.0</td>\n",
       "      <td>487</td>\n",
       "      <td>(40.73314259, -73.97573881)</td>\n",
       "      <td>[0.4126817442996944, 0.4228196291608109, 0.510...</td>\n",
       "      <td>0.412682</td>\n",
       "      <td>3632</td>\n",
       "    </tr>\n",
       "    <tr>\n",
       "      <th>3</th>\n",
       "      <td>44</td>\n",
       "      <td>40.732219</td>\n",
       "      <td>-73.981656</td>\n",
       "      <td>1 Ave &amp; E 16 St</td>\n",
       "      <td>71.0</td>\n",
       "      <td>504</td>\n",
       "      <td>(40.73221853, -73.98165557)</td>\n",
       "      <td>[0.20033338033820108, 0.2950626284995809, 0.37...</td>\n",
       "      <td>0.200333</td>\n",
       "      <td>3632</td>\n",
       "    </tr>\n",
       "    <tr>\n",
       "      <th>4</th>\n",
       "      <td>39</td>\n",
       "      <td>40.767272</td>\n",
       "      <td>-73.993929</td>\n",
       "      <td>W 52 St &amp; 11 Ave</td>\n",
       "      <td>71.0</td>\n",
       "      <td>72</td>\n",
       "      <td>(40.76727216, -73.99392888)</td>\n",
       "      <td>[0.28681067442331193, 0.45973984317367955, 0.4...</td>\n",
       "      <td>0.286811</td>\n",
       "      <td>3632</td>\n",
       "    </tr>\n",
       "  </tbody>\n",
       "</table>\n",
       "</div>"
      ],
      "text/plain": [
       "   capacity        lat        lon                 name  region_id  station_id  \\\n",
       "0        37  40.722174 -73.983688    E 2 St & Avenue B       71.0         301   \n",
       "1        52  40.727408 -73.981420   E 10 St & Avenue A       71.0         445   \n",
       "2        34  40.733143 -73.975739  E 20 St & FDR Drive       71.0         487   \n",
       "3        44  40.732219 -73.981656      1 Ave & E 16 St       71.0         504   \n",
       "4        39  40.767272 -73.993929     W 52 St & 11 Ave       71.0          72   \n",
       "\n",
       "                        latlon  \\\n",
       "0  (40.72217444, -73.98368779)   \n",
       "1  (40.72740794, -73.98142006)   \n",
       "2  (40.73314259, -73.97573881)   \n",
       "3  (40.73221853, -73.98165557)   \n",
       "4  (40.76727216, -73.99392888)   \n",
       "\n",
       "                                           nearest20   nearest  \\\n",
       "0  [0.20737310887239177, 0.20978155510713206, 0.2...  0.207373   \n",
       "1  [0.2315706130946069, 0.2405019077381504, 0.258...  0.231571   \n",
       "2  [0.4126817442996944, 0.4228196291608109, 0.510...  0.412682   \n",
       "3  [0.20033338033820108, 0.2950626284995809, 0.37...  0.200333   \n",
       "4  [0.28681067442331193, 0.45973984317367955, 0.4...  0.286811   \n",
       "\n",
       "   nearest_station_id  \n",
       "0                3632  \n",
       "1                3632  \n",
       "2                3632  \n",
       "3                3632  \n",
       "4                3632  "
      ]
     },
     "execution_count": 94,
     "metadata": {},
     "output_type": "execute_result"
    }
   ],
   "source": [
    "station_information.head()"
   ]
  },
  {
   "cell_type": "code",
   "execution_count": 99,
   "metadata": {},
   "outputs": [
    {
     "data": {
      "text/plain": [
       "(array([ 1810.,  5800.,  5661.,  1588.,   373.,   126.,    71.,    41.,\n",
       "           36.,    17.]),\n",
       " array([ 0.03671873,  0.32006119,  0.60340364,  0.88674609,  1.17008854,\n",
       "         1.453431  ,  1.73677345,  2.0201159 ,  2.30345836,  2.58680081,\n",
       "         2.87014326]),\n",
       " <a list of 10 Patch objects>)"
      ]
     },
     "execution_count": 99,
     "metadata": {},
     "output_type": "execute_result"
    },
    {
     "data": {
      "image/png": "[encoded data removed]",
      "text/plain": [
       "<matplotlib.figure.Figure at 0x7fa178a250b8>"
      ]
     },
     "metadata": {},
     "output_type": "display_data"
    }
   ],
   "source": [
    "pl.hist(nearest_20)"
   ]
  },
  {
   "cell_type": "code",
   "execution_count": 105,
   "metadata": {},
   "outputs": [],
   "source": [
    "filter_nearest = list(filter(lambda x: x<1.25, nearest_20))"
   ]
  },
  {
   "cell_type": "code",
   "execution_count": 108,
   "metadata": {},
   "outputs": [
    {
     "data": {
      "text/plain": [
       "(array([   26.,    68.,   312.,   770.,  1042.,   996.,  1064.,  1332.,\n",
       "         1462.,  1470.,  1532.,  1348.,  1048.,   777.,   590.,   428.,\n",
       "          311.,   197.,   127.,   134.]),\n",
       " array([ 0.03671873,  0.09732838,  0.15793802,  0.21854766,  0.27915731,\n",
       "         0.33976695,  0.40037659,  0.46098624,  0.52159588,  0.58220552,\n",
       "         0.64281517,  0.70342481,  0.76403445,  0.8246441 ,  0.88525374,\n",
       "         0.94586338,  1.00647303,  1.06708267,  1.12769231,  1.18830196,\n",
       "         1.2489116 ]),\n",
       " <a list of 20 Patch objects>)"
      ]
     },
     "execution_count": 108,
     "metadata": {},
     "output_type": "execute_result"
    },
    {
     "data": {
      "image/png": "[encoded data removed]",
      "text/plain": [
       "<matplotlib.figure.Figure at 0x7fa178831588>"
      ]
     },
     "metadata": {},
     "output_type": "display_data"
    }
   ],
   "source": [
    "pl.hist(filter_nearest, 20)"
   ]
  },
  {
   "cell_type": "code",
   "execution_count": 110,
   "metadata": {},
   "outputs": [
    {
     "data": {
      "text/plain": [
       "15034"
      ]
     },
     "execution_count": 110,
     "metadata": {},
     "output_type": "execute_result"
    }
   ],
   "source": [
    "len(list(filter(lambda x: x<1.25, nearest_20)))"
   ]
  },
  {
   "cell_type": "code",
   "execution_count": 119,
   "metadata": {},
   "outputs": [
    {
     "name": "stderr",
     "output_type": "stream",
     "text": [
      "/usr/local/Anaconda3-5.0.0-Linux-x86_64/envs/PUI2016_Python3/lib/python3.5/site-packages/ipykernel/__main__.py:3: SettingWithCopyWarning: \n",
      "A value is trying to be set on a copy of a slice from a DataFrame\n",
      "\n",
      "See the caveats in the documentation: http://pandas.pydata.org/pandas-docs/stable/indexing.html#indexing-view-versus-copy\n",
      "  app.launch_new_instance()\n"
     ]
    },
    {
     "name": "stdout",
     "output_type": "stream",
     "text": [
      "0\n",
      "100\n",
      "200\n",
      "300\n",
      "400\n",
      "500\n",
      "600\n",
      "700\n",
      "800\n"
     ]
    }
   ],
   "source": [
    "station_information['density'] = None\n",
    "for i in range(len(station_information)-1):\n",
    "    station_information['density'][i] = len(list(filter(lambda x: x<0.6, station_information['nearest20'][i])))\n",
    "    if i%100 == 0:\n",
    "        print(i)"
   ]
  },
  {
   "cell_type": "code",
   "execution_count": 120,
   "metadata": {},
   "outputs": [
    {
     "data": {
      "text/html": [
       "<div>\n",
       "<table border=\"1\" class=\"dataframe\">\n",
       "  <thead>\n",
       "    <tr style=\"text-align: right;\">\n",
       "      <th></th>\n",
       "      <th>capacity</th>\n",
       "      <th>lat</th>\n",
       "      <th>lon</th>\n",
       "      <th>name</th>\n",
       "      <th>region_id</th>\n",
       "      <th>station_id</th>\n",
       "      <th>latlon</th>\n",
       "      <th>nearest20</th>\n",
       "      <th>nearest</th>\n",
       "      <th>nearest_station_id</th>\n",
       "      <th>density</th>\n",
       "    </tr>\n",
       "  </thead>\n",
       "  <tbody>\n",
       "    <tr>\n",
       "      <th>0</th>\n",
       "      <td>37</td>\n",
       "      <td>40.722174</td>\n",
       "      <td>-73.983688</td>\n",
       "      <td>E 2 St &amp; Avenue B</td>\n",
       "      <td>71.0</td>\n",
       "      <td>301</td>\n",
       "      <td>(40.72217444, -73.98368779)</td>\n",
       "      <td>[0.20737310887239177, 0.20978155510713206, 0.2...</td>\n",
       "      <td>0.207373</td>\n",
       "      <td>3632</td>\n",
       "      <td>12</td>\n",
       "    </tr>\n",
       "    <tr>\n",
       "      <th>1</th>\n",
       "      <td>52</td>\n",
       "      <td>40.727408</td>\n",
       "      <td>-73.981420</td>\n",
       "      <td>E 10 St &amp; Avenue A</td>\n",
       "      <td>71.0</td>\n",
       "      <td>445</td>\n",
       "      <td>(40.72740794, -73.98142006)</td>\n",
       "      <td>[0.2315706130946069, 0.2405019077381504, 0.258...</td>\n",
       "      <td>0.231571</td>\n",
       "      <td>3632</td>\n",
       "      <td>11</td>\n",
       "    </tr>\n",
       "    <tr>\n",
       "      <th>2</th>\n",
       "      <td>34</td>\n",
       "      <td>40.733143</td>\n",
       "      <td>-73.975739</td>\n",
       "      <td>E 20 St &amp; FDR Drive</td>\n",
       "      <td>71.0</td>\n",
       "      <td>487</td>\n",
       "      <td>(40.73314259, -73.97573881)</td>\n",
       "      <td>[0.4126817442996944, 0.4228196291608109, 0.510...</td>\n",
       "      <td>0.412682</td>\n",
       "      <td>3632</td>\n",
       "      <td>5</td>\n",
       "    </tr>\n",
       "    <tr>\n",
       "      <th>3</th>\n",
       "      <td>44</td>\n",
       "      <td>40.732219</td>\n",
       "      <td>-73.981656</td>\n",
       "      <td>1 Ave &amp; E 16 St</td>\n",
       "      <td>71.0</td>\n",
       "      <td>504</td>\n",
       "      <td>(40.73221853, -73.98165557)</td>\n",
       "      <td>[0.20033338033820108, 0.2950626284995809, 0.37...</td>\n",
       "      <td>0.200333</td>\n",
       "      <td>3632</td>\n",
       "      <td>12</td>\n",
       "    </tr>\n",
       "    <tr>\n",
       "      <th>4</th>\n",
       "      <td>39</td>\n",
       "      <td>40.767272</td>\n",
       "      <td>-73.993929</td>\n",
       "      <td>W 52 St &amp; 11 Ave</td>\n",
       "      <td>71.0</td>\n",
       "      <td>72</td>\n",
       "      <td>(40.76727216, -73.99392888)</td>\n",
       "      <td>[0.28681067442331193, 0.45973984317367955, 0.4...</td>\n",
       "      <td>0.286811</td>\n",
       "      <td>3632</td>\n",
       "      <td>6</td>\n",
       "    </tr>\n",
       "  </tbody>\n",
       "</table>\n",
       "</div>"
      ],
      "text/plain": [
       "   capacity        lat        lon                 name  region_id  station_id  \\\n",
       "0        37  40.722174 -73.983688    E 2 St & Avenue B       71.0         301   \n",
       "1        52  40.727408 -73.981420   E 10 St & Avenue A       71.0         445   \n",
       "2        34  40.733143 -73.975739  E 20 St & FDR Drive       71.0         487   \n",
       "3        44  40.732219 -73.981656      1 Ave & E 16 St       71.0         504   \n",
       "4        39  40.767272 -73.993929     W 52 St & 11 Ave       71.0          72   \n",
       "\n",
       "                        latlon  \\\n",
       "0  (40.72217444, -73.98368779)   \n",
       "1  (40.72740794, -73.98142006)   \n",
       "2  (40.73314259, -73.97573881)   \n",
       "3  (40.73221853, -73.98165557)   \n",
       "4  (40.76727216, -73.99392888)   \n",
       "\n",
       "                                           nearest20   nearest  \\\n",
       "0  [0.20737310887239177, 0.20978155510713206, 0.2...  0.207373   \n",
       "1  [0.2315706130946069, 0.2405019077381504, 0.258...  0.231571   \n",
       "2  [0.4126817442996944, 0.4228196291608109, 0.510...  0.412682   \n",
       "3  [0.20033338033820108, 0.2950626284995809, 0.37...  0.200333   \n",
       "4  [0.28681067442331193, 0.45973984317367955, 0.4...  0.286811   \n",
       "\n",
       "   nearest_station_id density  \n",
       "0                3632      12  \n",
       "1                3632      11  \n",
       "2                3632       5  \n",
       "3                3632      12  \n",
       "4                3632       6  "
      ]
     },
     "execution_count": 120,
     "metadata": {},
     "output_type": "execute_result"
    }
   ],
   "source": [
    "station_information.head()"
   ]
  },
  {
   "cell_type": "code",
   "execution_count": null,
   "metadata": {},
   "outputs": [],
   "source": []
  }
 ],
 "metadata": {
  "kernelspec": {
   "display_name": "PUI2016_Python3",
   "language": "python",
   "name": "pui2016_python3"
  },
  "language_info": {
   "codemirror_mode": {
    "name": "ipython",
    "version": 3
   },
   "file_extension": ".py",
   "mimetype": "text/x-python",
   "name": "python",
   "nbconvert_exporter": "python",
   "pygments_lexer": "ipython3",
   "version": "3.5.4"
  }
 },
 "nbformat": 4,
 "nbformat_minor": 2
}
