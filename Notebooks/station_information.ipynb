{
 "cells": [
  {
   "cell_type": "code",
   "execution_count": 1,
   "metadata": {},
   "outputs": [],
   "source": [
    "from __future__ import print_function\n",
    "import pylab as pl\n",
    "import os\n",
    "import json\n",
    "import sys\n",
    "import csv\n",
    "try:\n",
    "    import urllib2 as urllib\n",
    "except ImportError:\n",
    "    import urllib.request as urllib"
   ]
  },
  {
   "cell_type": "code",
   "execution_count": 2,
   "metadata": {},
   "outputs": [],
   "source": [
    "url = \"https://gbfs.citibikenyc.com/gbfs/en/station_information.json\"\n",
    "\n",
    "# get data through api\n",
    "response = urllib.urlopen(url)\n",
    "data = response.read().decode(\"utf-8\")\n",
    "data = json.loads(data)"
   ]
  },
  {
   "cell_type": "code",
   "execution_count": 3,
   "metadata": {},
   "outputs": [
    {
     "data": {
      "text/plain": [
       "dict_keys(['lat', 'rental_methods', 'lon', 'capacity', 'short_name', 'station_id', 'eightd_station_services', 'region_id', 'rental_url', 'name', 'has_kiosk', 'external_id', 'eightd_has_key_dispenser'])"
      ]
     },
     "execution_count": 3,
     "metadata": {},
     "output_type": "execute_result"
    }
   ],
   "source": [
    "data[\"data\"]['stations'][0].keys()"
   ]
  },
  {
   "cell_type": "code",
   "execution_count": 4,
   "metadata": {},
   "outputs": [],
   "source": [
    "with open('station_information.csv',\"w\") as f:\n",
    "    writer = csv.writer(f)\n",
    "    writer.writerow([\"capacity\",\"external_id\",\"has_kiosk\",\"lat\",\"lon\",\"name\",\"region_id\",\"rental_methods\",\"rental_url\",\n",
    "                    \"short_name\",\"station_id\",\"eightd_has_key_dispenser\",\"bikes_availability\",\"description\",\"docks_availability\",\n",
    "                    \"id_num\",\"services_name\",\"schedule_description\",\"service_type\"])\n",
    "    for item in data[\"data\"]['stations']:\n",
    "        capacity = item['capacity']\n",
    "        external_id = item['external_id']\n",
    "        has_kiosk = item['has_kiosk']\n",
    "        lat = item['lat']\n",
    "        lon = item['lon']\n",
    "        name = item['name']\n",
    "        if 'region_id' in item.keys():\n",
    "            region_id = item['region_id']\n",
    "        else:\n",
    "            region_id = None\n",
    "        rental_methods = item['rental_methods']\n",
    "        rental_url = item['rental_url']\n",
    "        short_name = item['short_name']\n",
    "        station_id = item ['station_id']  \n",
    "        eightd_has_key_dispenser = item ['eightd_has_key_dispenser']\n",
    "\n",
    "        if 'eightd_station_services' in item.keys():\n",
    "            bikes_availability = item ['eightd_station_services'][0]['bikes_availability']\n",
    "            description = item['eightd_station_services'][0]['description']\n",
    "            docks_availability = item['eightd_station_services'][0]['docks_availability']\n",
    "            id_num = item['eightd_station_services'][0]['id']\n",
    "            services_name = item['eightd_station_services'][0]['name']\n",
    "            schedule_description = item['eightd_station_services'][0]['schedule_description']\n",
    "            service_type = item['eightd_station_services'][0]['service_type']\n",
    "        else:\n",
    "            bikes_availability = None\n",
    "            description = None\n",
    "            docks_availability = None\n",
    "            id_num = None\n",
    "            services_name = None\n",
    "            schedule_description = None\n",
    "            service_type = None\n",
    "        writer.writerow([capacity,external_id,has_kiosk,lat,lon,name,region_id,rental_methods,rental_url,\n",
    "                         short_name,station_id,eightd_has_key_dispenser,bikes_availability,description,\n",
    "                         docks_availability,id_num,services_name,schedule_description,service_type])\n",
    "f.close()\n"
   ]
  },
  {
   "cell_type": "code",
   "execution_count": null,
   "metadata": {},
   "outputs": [],
   "source": []
  },
  {
   "cell_type": "code",
   "execution_count": null,
   "metadata": {},
   "outputs": [],
   "source": []
  }
 ],
 "metadata": {
  "kernelspec": {
   "display_name": "PUI2016_Python3",
   "language": "python",
   "name": "pui2016_python3"
  },
  "language_info": {
   "codemirror_mode": {
    "name": "ipython",
    "version": 3
   },
   "file_extension": ".py",
   "mimetype": "text/x-python",
   "name": "python",
   "nbconvert_exporter": "python",
   "pygments_lexer": "ipython3",
   "version": "3.5.4"
  }
 },
 "nbformat": 4,
 "nbformat_minor": 2
}
